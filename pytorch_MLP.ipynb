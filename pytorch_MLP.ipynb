{
 "cells": [
  {
   "cell_type": "code",
   "execution_count": 40,
   "metadata": {},
   "outputs": [],
   "source": [
    "import torch \n",
    "import numpy as np\n",
    "import torchvision \n",
    "import torch.nn as nn\n",
    "from torchvision.datasets.mnist import MNIST\n",
    "from torch.utils.data import Dataset, DataLoader\n",
    "\n",
    "\n"
   ]
  },
  {
   "cell_type": "code",
   "execution_count": 41,
   "metadata": {},
   "outputs": [
    {
     "name": "stdout",
     "output_type": "stream",
     "text": [
      "<class 'torchvision.datasets.mnist.MNIST'>\n"
     ]
    }
   ],
   "source": [
    "trainset = MNIST('data', train=True,download=True, transform=torchvision.transforms.ToTensor())\n",
    "testset = MNIST('data', train=False,download=True,transform=torchvision.transforms.ToTensor())\n",
    "print(type(trainset))"
   ]
  },
  {
   "cell_type": "code",
   "execution_count": 42,
   "metadata": {},
   "outputs": [],
   "source": [
    "class MLP(nn.Module):\n",
    "    def __init__(self):\n",
    "        super().__init__()\n",
    "        self.fc1 = nn.Linear(28*28,128)\n",
    "        self.fc2 = nn.Linear(128,10)\n",
    "        self.relu = nn.ReLU()\n",
    "        \n",
    "        \n",
    "    def forward(self, x):\n",
    "        x = x.view(-1, 28*28)\n",
    "        x = self.fc1(x)\n",
    "        x = self.relu(x)\n",
    "        x = self.fc2(x)\n",
    "        return x\n",
    "    \n",
    "    "
   ]
  },
  {
   "cell_type": "code",
   "execution_count": 43,
   "metadata": {},
   "outputs": [],
   "source": [
    "model = MLP()"
   ]
  },
  {
   "cell_type": "code",
   "execution_count": 44,
   "metadata": {},
   "outputs": [],
   "source": [
    "optimzer = torch.optim.SGD(model.parameters(), lr=0.01)"
   ]
  },
  {
   "cell_type": "code",
   "execution_count": 45,
   "metadata": {},
   "outputs": [
    {
     "name": "stdout",
     "output_type": "stream",
     "text": [
      "fc1.weight torch.Size([128, 784])\n",
      "fc1.bias torch.Size([128])\n",
      "fc2.weight torch.Size([10, 128])\n",
      "fc2.bias torch.Size([10])\n"
     ]
    }
   ],
   "source": [
    "for n,p in model.named_parameters():\n",
    "    print(n,p.shape)\n"
   ]
  },
  {
   "cell_type": "code",
   "execution_count": 46,
   "metadata": {},
   "outputs": [],
   "source": [
    "loss_fn = nn.CrossEntropyLoss()"
   ]
  },
  {
   "cell_type": "code",
   "execution_count": 47,
   "metadata": {},
   "outputs": [
    {
     "name": "stdout",
     "output_type": "stream",
     "text": [
      "tensor(0.5749, grad_fn=<NllLossBackward>)\n",
      "tensor(0.4586, grad_fn=<NllLossBackward>)\n",
      "tensor(0.4022, grad_fn=<NllLossBackward>)\n",
      "tensor(0.2586, grad_fn=<NllLossBackward>)\n",
      "tensor(0.2183, grad_fn=<NllLossBackward>)\n",
      "tensor(0.2020, grad_fn=<NllLossBackward>)\n",
      "tensor(0.1418, grad_fn=<NllLossBackward>)\n",
      "tensor(0.1752, grad_fn=<NllLossBackward>)\n",
      "tensor(0.3670, grad_fn=<NllLossBackward>)\n",
      "tensor(0.1758, grad_fn=<NllLossBackward>)\n",
      "tensor(0.2863, grad_fn=<NllLossBackward>)\n",
      "tensor(0.1615, grad_fn=<NllLossBackward>)\n",
      "tensor(0.4903, grad_fn=<NllLossBackward>)\n",
      "tensor(0.1440, grad_fn=<NllLossBackward>)\n",
      "tensor(0.3490, grad_fn=<NllLossBackward>)\n",
      "tensor(0.1514, grad_fn=<NllLossBackward>)\n",
      "tensor(0.0996, grad_fn=<NllLossBackward>)\n",
      "tensor(0.1345, grad_fn=<NllLossBackward>)\n",
      "tensor(0.4617, grad_fn=<NllLossBackward>)\n",
      "tensor(0.1294, grad_fn=<NllLossBackward>)\n"
     ]
    }
   ],
   "source": [
    "for epoch in range(10):\n",
    "    for set_label, _set in zip(['train', 'test'], [trainset, testset]):\n",
    "        for batch_x, batch_y in DataLoader(_set, batch_size=64, shuffle=True if set_label == 'train' else False):\n",
    "            y_hat = model(batch_x)\n",
    "            loss = loss_fn(y_hat, batch_y)\n",
    "            if set_label == 'train':\n",
    "                optimzer.zero_grad()\n",
    "                loss.backward()\n",
    "                optimzer.step()\n",
    "            #print(loss)\n",
    "        print(loss)"
   ]
  },
  {
   "cell_type": "code",
   "execution_count": null,
   "metadata": {},
   "outputs": [],
   "source": [
    "def "
   ]
  }
 ],
 "metadata": {
  "kernelspec": {
   "display_name": "Python 3",
   "language": "python",
   "name": "python3"
  },
  "language_info": {
   "codemirror_mode": {
    "name": "ipython",
    "version": 3
   },
   "file_extension": ".py",
   "mimetype": "text/x-python",
   "name": "python",
   "nbconvert_exporter": "python",
   "pygments_lexer": "ipython3",
   "version": "3.7.3"
  }
 },
 "nbformat": 4,
 "nbformat_minor": 2
}
